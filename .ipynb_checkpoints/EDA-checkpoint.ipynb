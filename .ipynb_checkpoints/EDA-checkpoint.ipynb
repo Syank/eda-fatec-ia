{
 "cells": [
  {
   "cell_type": "markdown",
   "id": "a8d2e718",
   "metadata": {},
   "source": [
    "# EDA - Exploratory Data Analysis"
   ]
  },
  {
   "cell_type": "markdown",
   "id": "a822d90f",
   "metadata": {},
   "source": [
    "Neste notebook está listado o fluxo de avaliação e preparação de dados de um *DataSet* que servirão para treinamento e avaliação de um modelo de IA, usando Python e a biblioteca Tensorflow, para o reconhecimento de plantas de feijão\n",
    "\n",
    "O intuíto deste notebook é apenas demonstrativo para exemplificar uma de inumeras formas de realizar um EDA sobre dados a serem utilizados, pois para cada tipo de dado, existem formas diferentes de se tratar os mesmos"
   ]
  },
  {
   "cell_type": "markdown",
   "id": "f1ce0df6",
   "metadata": {},
   "source": [
    "# Coleta dos dados"
   ]
  },
  {
   "cell_type": "markdown",
   "id": "c037ce58",
   "metadata": {},
   "source": [
    "O primeiro passo é realizar a coleta dos dados a serem utilizados, aqui, como se trata de um DataSet de feijões, foram coletadas algumas imagens e adicionadas na pasta **rawData**, onde estarão todos os dados não tratados"
   ]
  },
  {
   "cell_type": "markdown",
   "id": "1e40848f",
   "metadata": {},
   "source": [
    "<img src=\"./rawData/feijao_1.jpg\" width=\"512\">"
   ]
  },
  {
   "cell_type": "markdown",
   "id": "eda675d3",
   "metadata": {},
   "source": [
    "## Entendendo os dados"
   ]
  },
  {
   "cell_type": "markdown",
   "id": "ad9e23b9",
   "metadata": {},
   "source": [
    "Os algoritmos para o treinamento de um modelo de reconhecimento de imagem necessitam que as imagens de entrada para seu treinamento sejam padronizadas, que todas possuam as mesmas dimensões de largura e altura\n",
    "\n",
    "Podemos notar que as imagens em **rawData** não possuem padronização quanto a isso, então a primeira ação a ser tomada será corrigir isso\n",
    "\n",
    "Com a ajuda de bibliotecas Python, iremos automatizar esse processo"
   ]
  },
  {
   "cell_type": "markdown",
   "id": "fc578fe4",
   "metadata": {},
   "source": [
    "## Primeira ação - Padronizando dimensões das imagens"
   ]
  },
  {
   "cell_type": "markdown",
   "id": "b2223baa",
   "metadata": {},
   "source": [
    "Utilizando a biblioteca **OpenCV**, iremos redimensionar as imagens para 512x512 pixels, aplicando a técnica de *padding* para manter a proporção das imagens, evitando que fiquem distorcidas"
   ]
  },
  {
   "cell_type": "code",
   "execution_count": 1,
   "id": "71a1e408",
   "metadata": {},
   "outputs": [
    {
     "name": "stdout",
     "output_type": "stream",
     "text": [
      "Requirement already satisfied: numpy in c:\\users\\rafs9\\appdata\\local\\programs\\python\\python310\\lib\\site-packages (1.23.3)\n",
      "Requirement already satisfied: opencv-python in c:\\users\\rafs9\\appdata\\local\\programs\\python\\python310\\lib\\site-packages (4.6.0.66)\n",
      "Requirement already satisfied: numpy>=1.21.2 in c:\\users\\rafs9\\appdata\\local\\programs\\python\\python310\\lib\\site-packages (from opencv-python) (1.23.3)\n"
     ]
    }
   ],
   "source": [
    "# Instalando dependências\n",
    "!pip install numpy\n",
    "!pip install opencv-python"
   ]
  },
  {
   "cell_type": "code",
   "execution_count": 2,
   "id": "a1f57bdd",
   "metadata": {},
   "outputs": [],
   "source": [
    "# Importando dependências\n",
    "import cv2  # OpenCV\n",
    "import os  # Funções auxiliares do SO"
   ]
  },
  {
   "cell_type": "code",
   "execution_count": 3,
   "id": "2ff1e2b5",
   "metadata": {},
   "outputs": [],
   "source": [
    "# Com as dependências instaladas e importadas, podemos começar a trabalhar\n",
    "# Iremos setar algumas váriaveis que serão utilizadas no processo\n",
    "\n",
    "rawImagesPath = \"./rawData\"\n",
    "resizedImagesOutput = \"./step1_resizedImages\""
   ]
  },
  {
   "cell_type": "code",
   "execution_count": 4,
   "id": "2b73023c",
   "metadata": {},
   "outputs": [],
   "source": [
    "# Pegando a lista de imagens a serem tratadas\n",
    "\n",
    "rawImagesNames = os.listdir(rawImagesPath)"
   ]
  },
  {
   "cell_type": "code",
   "execution_count": 5,
   "id": "44783537",
   "metadata": {},
   "outputs": [
    {
     "name": "stdout",
     "output_type": "stream",
     "text": [
      "['feijao_1.jpg', 'feijao_10.jpg', 'feijao_2.jpg', 'feijao_3.jpg', 'feijao_4.jpg', 'feijao_5.jpg', 'feijao_6.jpg', 'feijao_7.jpg', 'feijao_8.jpg', 'feijao_9.jpg']\n"
     ]
    }
   ],
   "source": [
    "print(rawImagesNames)"
   ]
  },
  {
   "cell_type": "code",
   "execution_count": 6,
   "id": "588b46ad",
   "metadata": {},
   "outputs": [],
   "source": [
    "def resizeImage(image, width = None, height = None):\n",
    "    defaultHeight = rawImageToResize.shape[0]\n",
    "    defaultWidth = rawImageToResize.shape[1]\n",
    "\n",
    "    if width is None and height is None:\n",
    "        return image\n",
    "\n",
    "    if width is None:\n",
    "        aspectRatio = height / float(defaultHeight)\n",
    "        \n",
    "        newDimensions = (int(defaultWidth * aspectRatio), height)\n",
    "        \n",
    "    else:\n",
    "        aspectRatio = width / float(defaultWidth)\n",
    "        \n",
    "        newDimensions = (width, int(defaultHeight * aspectRatio))\n",
    "        \n",
    "    resizedImage = cv2.resize(image, newDimensions)\n",
    "\n",
    "    return resizedImage"
   ]
  },
  {
   "cell_type": "code",
   "execution_count": 7,
   "id": "61d9b9fb",
   "metadata": {},
   "outputs": [
    {
     "name": "stdout",
     "output_type": "stream",
     "text": [
      "Imagem: feijao_1.jpg | Altura: 667 | Largura: 1200\n",
      "Imagem: feijao_10.jpg | Altura: 459 | Largura: 612\n",
      "Imagem: feijao_2.jpg | Altura: 627 | Largura: 940\n",
      "Imagem: feijao_3.jpg | Altura: 174 | Largura: 290\n",
      "Imagem: feijao_4.jpg | Altura: 600 | Largura: 900\n",
      "Imagem: feijao_5.jpg | Altura: 533 | Largura: 800\n",
      "Imagem: feijao_6.jpg | Altura: 3012 | Largura: 4512\n",
      "Imagem: feijao_7.jpg | Altura: 480 | Largura: 640\n",
      "Imagem: feijao_8.jpg | Altura: 667 | Largura: 1000\n",
      "Imagem: feijao_9.jpg | Altura: 426 | Largura: 640\n"
     ]
    }
   ],
   "source": [
    "# Primeiro, vejamos como são as proporções das imagens, o código abaixo irá mostrar na tela suas medidas\n",
    "\n",
    "\n",
    "for imageName in rawImagesNames:\n",
    "    rawImageToResize = cv2.imread(rawImagesPath + \"/\" + imageName)\n",
    "    \n",
    "    height = rawImageToResize.shape[0]\n",
    "    width = rawImageToResize.shape[1]\n",
    "    \n",
    "    print(f\"Imagem: {imageName} | Altura: {height} | Largura: {width}\")\n"
   ]
  },
  {
   "cell_type": "markdown",
   "id": "e08214b5",
   "metadata": {},
   "source": [
    "Obtemos o seguinte resultado, que contêm as proporções das imagens do *DataSet*\n",
    "\n",
    "Imagem: feijao_1.jpg  |  Altura: 667 | Largura: 1200\n",
    "\n",
    "Imagem: feijao_10.jpg |  Altura: 459 | Largura: 612\n",
    "\n",
    "Imagem: feijao_2.jpg  |  Altura: 627 | Largura: 940\n",
    "\n",
    "Imagem: feijao_3.jpg  |  Altura: 174 | Largura: 290\n",
    "\n",
    "Imagem: feijao_4.jpg  |  Altura: 600 | Largura: 900\n",
    "\n",
    "Imagem: feijao_5.jpg  |  Altura: 533 | Largura: 800\n",
    "\n",
    "Imagem: feijao_6.jpg  | Altura: 3012 | Largura: 4512\n",
    "\n",
    "Imagem: feijao_7.jpg  |  Altura: 480 | Largura: 640\n",
    "\n",
    "Imagem: feijao_8.jpg  |  Altura: 667 | Largura: 1000\n",
    "\n",
    "Imagem: feijao_9.jpg  |  Altura: 426 | Largura: 640\n",
    "\n",
    "\n",
    "Deste resultado, podemos observar que o maior valor é de largura de 4512, então como queremos limitar as imagens a um formato de 512x512, devemos nos basear na largura no momento de fazer o tratamento das imagens, dessa forma teremos todas as imagens com uma largura de 512 e com uma altura proporcional que não cause distorção"
   ]
  },
  {
   "cell_type": "code",
   "execution_count": 8,
   "id": "fd0b153e",
   "metadata": {},
   "outputs": [
    {
     "name": "stdout",
     "output_type": "stream",
     "text": [
      "Imagem: feijao_1.jpg | Altura: 284 | Largura: 512\n",
      "Imagem: feijao_10.jpg | Altura: 384 | Largura: 512\n",
      "Imagem: feijao_2.jpg | Altura: 341 | Largura: 512\n",
      "Imagem: feijao_3.jpg | Altura: 307 | Largura: 512\n",
      "Imagem: feijao_4.jpg | Altura: 341 | Largura: 512\n",
      "Imagem: feijao_5.jpg | Altura: 341 | Largura: 512\n",
      "Imagem: feijao_6.jpg | Altura: 341 | Largura: 512\n",
      "Imagem: feijao_7.jpg | Altura: 384 | Largura: 512\n",
      "Imagem: feijao_8.jpg | Altura: 341 | Largura: 512\n",
      "Imagem: feijao_9.jpg | Altura: 340 | Largura: 512\n"
     ]
    }
   ],
   "source": [
    "# Agora iremos realizar os redimensionamentos e exibir na tela as novas proporções das imagens\n",
    "for imageName in rawImagesNames:\n",
    "    rawImageToResize = cv2.imread(rawImagesPath + \"/\" + imageName)\n",
    "    \n",
    "    resizedImage = resizeImage(rawImageToResize, width = 512)\n",
    "    \n",
    "    defaultHeight = resizedImage.shape[0]\n",
    "    defaultWidth = resizedImage.shape[1]\n",
    "    \n",
    "    print(f\"Imagem: {imageName} | Altura: {defaultHeight} | Largura: {defaultWidth}\")\n",
    "    "
   ]
  },
  {
   "cell_type": "markdown",
   "id": "888dab43",
   "metadata": {},
   "source": [
    "Todas as imagens agora possuem uma largura de 512 pixels, agora iremos trabalhar a altura, adicionando um *padding* para que completem a altura de 512 e obtenhamos a proporção 512x512 esperada"
   ]
  },
  {
   "cell_type": "code",
   "execution_count": 9,
   "id": "2ec9ee1f",
   "metadata": {},
   "outputs": [],
   "source": [
    "# Agora iremos adicionar o padding às imagens e salvá-las no diretório de output do passo 1\n",
    "\n",
    "paddingPixelColor = (0, 0, 0)  # Cor RGB para preto\n",
    "\n",
    "for imageName in rawImagesNames:\n",
    "    rawImageToResize = cv2.imread(rawImagesPath + \"/\" + imageName)\n",
    "    \n",
    "    resizedImage = resizeImage(rawImageToResize, width = 512)\n",
    "    \n",
    "    defaultHeight = resizedImage.shape[0]\n",
    "    \n",
    "    missingPixels = 512 - defaultHeight \n",
    "    \n",
    "    padding = int(missingPixels / 2)\n",
    "    \n",
    "    paddedImage = cv2.copyMakeBorder(resizedImage, padding, padding, 0, 0, cv2.BORDER_CONSTANT, value=paddingPixelColor)\n",
    "    \n",
    "    cv2.imwrite(resizedImagesOutput + \"/\" + imageName, paddedImage)"
   ]
  },
  {
   "cell_type": "markdown",
   "id": "ae5cad3d",
   "metadata": {},
   "source": [
    "Com todas as imagens nas mesmas proporções, podemos seguir para a próxima etapa\n",
    "\n",
    "<img src=\"./step1_resizedImages/feijao_1.jpg\" width=\"512\">"
   ]
  },
  {
   "cell_type": "markdown",
   "id": "002181a3",
   "metadata": {},
   "source": [
    "## Segunda ação - Removendo cores da imagem"
   ]
  },
  {
   "cell_type": "markdown",
   "id": "082bfa1f",
   "metadata": {},
   "source": [
    "A remoção do canal RGB de uma imagem faz com que ela se torne mais fácil de ser processada durante o treinamento, pois exigira menos memória da máquina\n",
    "\n",
    "Iremos tratar nossas imagens para que fiquem apenas em tons de cinza\n"
   ]
  },
  {
   "cell_type": "code",
   "execution_count": 10,
   "id": "44f20f97",
   "metadata": {},
   "outputs": [],
   "source": [
    "# Importando dependências\n",
    "import cv2  # OpenCV\n",
    "import os  # Funções auxiliares do SO"
   ]
  },
  {
   "cell_type": "code",
   "execution_count": 11,
   "id": "4a6bd9d1",
   "metadata": {},
   "outputs": [],
   "source": [
    "# Com as dependências instaladas e importadas, podemos começar a trabalhar\n",
    "# Iremos setar algumas váriaveis que serão utilizadas no processo\n",
    "\n",
    "resizedImagesPath = \"./step1_resizedImages\"\n",
    "grayScaledImagesOutput = \"./step2_grayScaleImages\""
   ]
  },
  {
   "cell_type": "code",
   "execution_count": 12,
   "id": "94c255a3",
   "metadata": {},
   "outputs": [],
   "source": [
    "# Pegando a lista de imagens a serem tratadas\n",
    "\n",
    "resizedImagesNames = os.listdir(resizedImagesPath)"
   ]
  },
  {
   "cell_type": "code",
   "execution_count": 13,
   "id": "e8c28c6f",
   "metadata": {},
   "outputs": [],
   "source": [
    "# Iremos iterar por todas as imagens redimensionadas, remover seu canal RGB e salvá-las no diretório de saída do passo 2\n",
    "\n",
    "for imageName in resizedImagesNames:\n",
    "    imageToRemoveRgbChannel = cv2.imread(resizedImagesPath + \"/\" + imageName)\n",
    "    \n",
    "    grayImage = cv2.cvtColor(imageToRemoveRgbChannel, cv2.COLOR_BGR2GRAY)\n",
    "    \n",
    "    cv2.imwrite(grayScaledImagesOutput + \"/\" + imageName, grayImage)"
   ]
  },
  {
   "cell_type": "markdown",
   "id": "8d3eaf58",
   "metadata": {},
   "source": [
    "Com as imagens em tons de cinza, podemos avançar ao próximo estágio\n",
    "\n",
    "<img src=\"./step2_grayScaleImages/feijao_1.jpg\" width=\"512\">"
   ]
  },
  {
   "cell_type": "markdown",
   "id": "33d03087",
   "metadata": {},
   "source": [
    "## Terceira ação - Aplicando filtro *Canny* (Detecção de Bordas)"
   ]
  },
  {
   "cell_type": "markdown",
   "id": "38228872",
   "metadata": {},
   "source": [
    "O filtro de Canny é uma técnica utilizada para detectar bordas de uma imagem, removendo ruídos e deixando apenas os contornos marcantes dos objetos das imagens\n",
    "\n",
    "A utilização desse filtro pode ser empregada quando a estratégia para treinar o modelo de reconhecimento de imagens se baseia em suas bordas ou para a redução do tamanho das imagens para o processamento, visto que restarão poucos pixels após este pré-processamento\n",
    "\n",
    "Para a aplicação do Filtro Canny não é necessário realizar nenhuma das ações já tomadas neste notebook, porém as etapas realizadas e as imagens geradas em cada uma podem ser usadas para treinar os modelos e comparar os resultados entre si, ficando explicito assim qual pré-processamento foi mais eficaz e realmente se faz necessário para treinar o modelo de reconhecimento"
   ]
  },
  {
   "cell_type": "code",
   "execution_count": 14,
   "id": "cd48409b",
   "metadata": {},
   "outputs": [],
   "source": [
    "# Importando dependências\n",
    "import cv2  # OpenCV\n",
    "import os  # Funções auxiliares do SO"
   ]
  },
  {
   "cell_type": "code",
   "execution_count": 15,
   "id": "502590fb",
   "metadata": {},
   "outputs": [],
   "source": [
    "# Com as dependências instaladas e importadas, podemos começar a trabalhar\n",
    "# Iremos setar algumas váriaveis que serão utilizadas no processo\n",
    "\n",
    "grayScaledImagesPath = \"./step2_grayScaleImages\"\n",
    "imageEdgesOutput = \"./step3_imageEdges\""
   ]
  },
  {
   "cell_type": "code",
   "execution_count": 16,
   "id": "e2455263",
   "metadata": {},
   "outputs": [],
   "source": [
    "# Pegando a lista de imagens a serem tratadas\n",
    "\n",
    "grayScaledImagesNames = os.listdir(grayScaledImagesPath)"
   ]
  },
  {
   "cell_type": "code",
   "execution_count": 17,
   "id": "8c973099",
   "metadata": {},
   "outputs": [],
   "source": [
    "# Iremos iterar por todas as imagens cinzas, aplicando o filtro Canny e salvá-las no diretório de saída do passo 3\n",
    "\n",
    "for imageName in grayScaledImagesNames:\n",
    "    grayImage = cv2.imread(grayScaledImagesPath + \"/\" + imageName)\n",
    "    \n",
    "    imageWithEdges = cv2.Canny(grayImage, 120, 200)\n",
    "    \n",
    "    cv2.imwrite(imageEdgesOutput + \"/\" + imageName, imageWithEdges)"
   ]
  },
  {
   "cell_type": "markdown",
   "id": "38e03c30",
   "metadata": {},
   "source": [
    "Com as bordas detectadas, obtemos o seguinte resultado\n",
    "\n",
    "<img src=\"./step3_imageEdges/feijao_1.jpg\" width=\"512\">"
   ]
  },
  {
   "cell_type": "markdown",
   "id": "bc9197a6",
   "metadata": {},
   "source": [
    "## Finalizações"
   ]
  },
  {
   "cell_type": "markdown",
   "id": "42008890",
   "metadata": {},
   "source": [
    "Com os passos executados aqui, foram obtidos 3 conjuntos de imagens:\n",
    "\n",
    "- Imagens redimensionadas para 512x512 pixels\n",
    "- Imagens redimensionadas com apenas tons de cinza\n",
    "- Imagens redimensionadas e sob efeito do filtro Canny (detecção de bordas)\n",
    "\n",
    "Com esse conhecimento e tratamento inicial, pode-se estudar em seguida qual tipo de rede neural melhor atende às necessidades para que um modelo seja trainado para reconhecer feijões\n",
    "\n",
    "Deve-se agora testar diferentes tipos de redes para o treinamento, utilizando totalmente ou parcialmente os conjuntos de images gerados, procurando aquele que apresentar a melhor taxa de sucesso\n",
    "\n",
    "Independente de qual rede utilizar e qual conjunto de images escolher, é necessário que as imagens sejam categorizadas de acordo com aquilo que representam, neste caso, \"feijao\", e informar ao modelo do que se tratam essas imagens, para que o mesmo, após seu treinamento, ao receber uma nova imagem para avaliação, saiba quais são as possíveis classe que ele conhece para categorizar."
   ]
  },
  {
   "cell_type": "code",
   "execution_count": null,
   "id": "3bd5bc29",
   "metadata": {},
   "outputs": [],
   "source": []
  }
 ],
 "metadata": {
  "kernelspec": {
   "display_name": "Python 3 (ipykernel)",
   "language": "python",
   "name": "python3"
  },
  "language_info": {
   "codemirror_mode": {
    "name": "ipython",
    "version": 3
   },
   "file_extension": ".py",
   "mimetype": "text/x-python",
   "name": "python",
   "nbconvert_exporter": "python",
   "pygments_lexer": "ipython3",
   "version": "3.10.6"
  }
 },
 "nbformat": 4,
 "nbformat_minor": 5
}
